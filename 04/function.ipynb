{
 "metadata": {
  "language_info": {
   "codemirror_mode": {
    "name": "ipython",
    "version": 3
   },
   "file_extension": ".py",
   "mimetype": "text/x-python",
   "name": "python",
   "nbconvert_exporter": "python",
   "pygments_lexer": "ipython3",
   "version": ""
  },
  "orig_nbformat": 2,
  "kernelspec": {
   "name": "pythonjvsc74a57bd023300995598eec4bcf6bd89cf02d1c3675e8b2616661418dbbf5580aa901878d",
   "display_name": "Python"
  },
  "metadata": {
   "interpreter": {
    "hash": "23300995598eec4bcf6bd89cf02d1c3675e8b2616661418dbbf5580aa901878d"
   }
  }
 },
 "nbformat": 4,
 "nbformat_minor": 2,
 "cells": [
  {
   "cell_type": "code",
   "execution_count": 1,
   "metadata": {},
   "outputs": [
    {
     "output_type": "stream",
     "name": "stdout",
     "text": [
      "55\n"
     ]
    }
   ],
   "source": [
    "def add_many(*args):\n",
    "    result = 0\n",
    "    for i in args:\n",
    "        result += i\n",
    "    return result\n",
    "a = add_many(1,2,3,4,5,6,7,8,9,10)\n",
    "print(a)"
   ]
  },
  {
   "cell_type": "code",
   "execution_count": 17,
   "metadata": {},
   "outputs": [
    {
     "output_type": "stream",
     "name": "stdout",
     "text": [
      "0.008333333333333333\n"
     ]
    }
   ],
   "source": [
    "def sub_div(choice, *args):\n",
    "    if choice == 'sub':\n",
    "        result = 0\n",
    "        for i in args:\n",
    "            result -= i\n",
    "    if choice == 'div':\n",
    "        result = 1\n",
    "        for i in args:\n",
    "            result /= i\n",
    "    return result\n",
    "result = sub_div('div', 1,2,3,4,5)\n",
    "print(result)"
   ]
  },
  {
   "cell_type": "code",
   "execution_count": 18,
   "metadata": {},
   "outputs": [
    {
     "output_type": "stream",
     "name": "stdout",
     "text": [
      "{'a': 1, 'b': 2}\n"
     ]
    }
   ],
   "source": [
    "def print_kwargs(**kwargs):\n",
    "    print(kwargs)\n",
    "print_kwargs(a = 1, b = 2)"
   ]
  },
  {
   "cell_type": "code",
   "execution_count": 23,
   "metadata": {},
   "outputs": [
    {
     "output_type": "stream",
     "name": "stdout",
     "text": [
      "나의 이름은 a 입니다.\n나이는 1살입니다.\n여자입니다.\n"
     ]
    }
   ],
   "source": [
    "def say_myself(name, old, man=True): \n",
    "    print(\"나의 이름은 %s 입니다.\" % name) \n",
    "    print(\"나이는 %d살입니다.\" % old) \n",
    "    if man: \n",
    "        print(\"남자입니다.\")\n",
    "    else: \n",
    "        print(\"여자입니다.\")\n",
    "say_myself('a',1,False)"
   ]
  },
  {
   "cell_type": "code",
   "execution_count": 24,
   "metadata": {},
   "outputs": [
    {
     "output_type": "stream",
     "name": "stdout",
     "text": [
      "2\n"
     ]
    }
   ],
   "source": [
    "a = 1 \n",
    "def vartest(a): \n",
    "    a = a +1 \n",
    "    return a\n",
    "\n",
    "a = vartest(a) \n",
    "print(a)"
   ]
  },
  {
   "cell_type": "code",
   "execution_count": 25,
   "metadata": {},
   "outputs": [
    {
     "output_type": "stream",
     "name": "stdout",
     "text": [
      "2\n"
     ]
    }
   ],
   "source": [
    "a = 1 \n",
    "def vartest(): \n",
    "    global a \n",
    "    a = a+1\n",
    "\n",
    "vartest() \n",
    "print(a)"
   ]
  },
  {
   "source": [
    "lambda doesn't require 'return'"
   ],
   "cell_type": "markdown",
   "metadata": {}
  },
  {
   "cell_type": "code",
   "execution_count": 26,
   "metadata": {},
   "outputs": [
    {
     "output_type": "stream",
     "name": "stdout",
     "text": [
      "7\n"
     ]
    }
   ],
   "source": [
    "add = lambda a, b: a+b\n",
    "a = add(3,4)\n",
    "print(a)"
   ]
  },
  {
   "cell_type": "code",
   "execution_count": 27,
   "metadata": {},
   "outputs": [
    {
     "output_type": "stream",
     "name": "stdout",
     "text": [
      "I love you, mom.\n"
     ]
    }
   ],
   "source": [
    "a = input()\n",
    "print(a)"
   ]
  },
  {
   "cell_type": "code",
   "execution_count": 28,
   "metadata": {},
   "outputs": [
    {
     "output_type": "stream",
     "name": "stdout",
     "text": [
      "엄마 쏴랑해요~\n"
     ]
    }
   ],
   "source": [
    "a = input(\"enter what you wanna say:\")\n",
    "print(a)"
   ]
  },
  {
   "cell_type": "code",
   "execution_count": 29,
   "metadata": {},
   "outputs": [],
   "source": [
    "prompt = \"\"\"\n",
    "enter x to exit\n",
    "\"\"\"\n",
    "a = input(\"enter what you want to say\")\n",
    "while a != 'x':\n",
    "    a = input('what')    "
   ]
  },
  {
   "cell_type": "code",
   "execution_count": 30,
   "metadata": {},
   "outputs": [
    {
     "output_type": "stream",
     "name": "stdout",
     "text": [
      "lifeistoo short\n"
     ]
    }
   ],
   "source": [
    "print(\"life\" \"is\" \"too short\")"
   ]
  },
  {
   "cell_type": "code",
   "execution_count": 31,
   "metadata": {},
   "outputs": [
    {
     "output_type": "stream",
     "name": "stdout",
     "text": [
      "life is too short\n"
     ]
    }
   ],
   "source": [
    "print(\"life\", \"is\", \"too short\")"
   ]
  },
  {
   "cell_type": "code",
   "execution_count": 33,
   "metadata": {},
   "outputs": [
    {
     "output_type": "stream",
     "name": "stdout",
     "text": [
      "0 1 2 3 4 5 6 7 8 9 "
     ]
    }
   ],
   "source": [
    "for i in range(10):\n",
    "    print(i, end=\" \")"
   ]
  },
  {
   "cell_type": "code",
   "execution_count": 40,
   "metadata": {},
   "outputs": [],
   "source": [
    "f= open(\"새파일.txt\", 'w')\n",
    "for i in range(1, 11):\n",
    "    data = \"%d번째 줄입니다. \\n\" % i\n",
    "    f.write(data)\n",
    "f.close()"
   ]
  },
  {
   "cell_type": "code",
   "execution_count": 41,
   "metadata": {},
   "outputs": [
    {
     "output_type": "stream",
     "name": "stdout",
     "text": [
      "1번째 줄입니다. \n\n"
     ]
    }
   ],
   "source": [
    "f = open(\"새파일.txt\", \"r\")\n",
    "line = f.readline()\n",
    "print(line)\n",
    "f.close()"
   ]
  },
  {
   "cell_type": "code",
   "execution_count": 42,
   "metadata": {},
   "outputs": [
    {
     "output_type": "stream",
     "name": "stdout",
     "text": [
      "1번째 줄입니다. \n\n2번째 줄입니다. \n\n3번째 줄입니다. \n\n4번째 줄입니다. \n\n5번째 줄입니다. \n\n6번째 줄입니다. \n\n7번째 줄입니다. \n\n8번째 줄입니다. \n\n9번째 줄입니다. \n\n10번째 줄입니다. \n\n"
     ]
    }
   ],
   "source": [
    "f = open(\"새파일.txt\", 'r')\n",
    "while True:\n",
    "    line = f.readline()\n",
    "    if not line: break\n",
    "    print(line)\n",
    "f.close()"
   ]
  },
  {
   "cell_type": "code",
   "execution_count": 45,
   "metadata": {},
   "outputs": [
    {
     "output_type": "stream",
     "name": "stdout",
     "text": [
      "1번째 줄입니다. \n\n2번째 줄입니다. \n\n3번째 줄입니다. \n\n4번째 줄입니다. \n\n5번째 줄입니다. \n\n6번째 줄입니다. \n\n7번째 줄입니다. \n\n8번째 줄입니다. \n\n9번째 줄입니다. \n\n10번째 줄입니다. \n\n"
     ]
    }
   ],
   "source": [
    "f = open(\"새파일.txt\", 'r')\n",
    "lines = f.readlines()\n",
    "for line in lines:\n",
    "    print(line)\n",
    "f.close()"
   ]
  },
  {
   "cell_type": "code",
   "execution_count": 46,
   "metadata": {},
   "outputs": [
    {
     "output_type": "stream",
     "name": "stdout",
     "text": [
      "1번째 줄입니다. \n2번째 줄입니다. \n3번째 줄입니다. \n4번째 줄입니다. \n5번째 줄입니다. \n6번째 줄입니다. \n7번째 줄입니다. \n8번째 줄입니다. \n9번째 줄입니다. \n10번째 줄입니다. \n\n"
     ]
    }
   ],
   "source": [
    "f = open(\"새파일.txt\", 'r')\n",
    "data = f.read()\n",
    "print(data)\n",
    "f.close()"
   ]
  },
  {
   "cell_type": "code",
   "execution_count": 51,
   "metadata": {},
   "outputs": [],
   "source": [
    "f = open('새파일.txt', 'a')\n",
    "for i in range(11, 21):\n",
    "    data = \"%d번째 줄입니다. \\n\" % i\n",
    "    f.write(data)\n",
    "f.close()"
   ]
  },
  {
   "cell_type": "code",
   "execution_count": 52,
   "metadata": {},
   "outputs": [
    {
     "output_type": "stream",
     "name": "stdout",
     "text": [
      "1번째 줄입니다. \n2번째 줄입니다. \n3번째 줄입니다. \n4번째 줄입니다. \n5번째 줄입니다. \n6번째 줄입니다. \n7번째 줄입니다. \n8번째 줄입니다. \n9번째 줄입니다. \n10번째 줄입니다.\n11번째 줄입니다. \n12번째 줄입니다. \n13번째 줄입니다. \n14번째 줄입니다. \n15번째 줄입니다. \n16번째 줄입니다. \n17번째 줄입니다. \n18번째 줄입니다. \n19번째 줄입니다. \n20번째 줄입니다. \n\n"
     ]
    }
   ],
   "source": [
    "f = open(\"새파일.txt\", 'r')\n",
    "data = f.read()\n",
    "print(data)"
   ]
  },
  {
   "cell_type": "code",
   "execution_count": 53,
   "metadata": {},
   "outputs": [
    {
     "output_type": "stream",
     "name": "stdout",
     "text": [
      "1번째 줄입니다. \n2번째 줄입니다. \n3번째 줄입니다. \n4번째 줄입니다. \n5번째 줄입니다. \n6번째 줄입니다. \n7번째 줄입니다. \n8번째 줄입니다. \n9번째 줄입니다. \n10번째 줄입니다.\n11번째 줄입니다. \n12번째 줄입니다. \n13번째 줄입니다. \n14번째 줄입니다. \n15번째 줄입니다. \n16번째 줄입니다. \n17번째 줄입니다. \n18번째 줄입니다. \n19번째 줄입니다. \n20번째 줄입니다. \n\n"
     ]
    }
   ],
   "source": [
    "with open('새파일.txt', 'r') as f:\n",
    "    data = f.read()\n",
    "    print(data)\n"
   ]
  },
  {
   "cell_type": "code",
   "execution_count": 54,
   "metadata": {},
   "outputs": [
    {
     "output_type": "stream",
     "name": "stdout",
     "text": [
      "홀수입니다\n"
     ]
    }
   ],
   "source": [
    "def is_odd(a):\n",
    "    if a % 2 == 0:\n",
    "        print('짝수입니다')\n",
    "    else:\n",
    "        print('홀수입니다')\n",
    "is_odd(3)"
   ]
  },
  {
   "cell_type": "code",
   "execution_count": 55,
   "metadata": {},
   "outputs": [
    {
     "output_type": "execute_result",
     "data": {
      "text/plain": [
       "3.0"
      ]
     },
     "metadata": {},
     "execution_count": 55
    }
   ],
   "source": [
    "def avg(*nums):\n",
    "    total = 0\n",
    "    for num in nums:\n",
    "        total += num\n",
    "    return total / (len(nums))\n",
    "avg(1, 2, 3, 4, 5) "
   ]
  },
  {
   "cell_type": "code",
   "execution_count": 57,
   "metadata": {},
   "outputs": [
    {
     "output_type": "stream",
     "name": "stdout",
     "text": [
      "두 수의 합은 3 입니다\n"
     ]
    }
   ],
   "source": [
    "input1 = input(\"첫번째 숫자를 입력하세요:\")\n",
    "input2 = input(\"두번째 숫자를 입력하세요:\")\n",
    "\n",
    "total = int(input1) + int(input2)\n",
    "print(\"두 수의 합은 %s 입니다\" % total)"
   ]
  },
  {
   "cell_type": "code",
   "execution_count": 58,
   "metadata": {},
   "outputs": [
    {
     "output_type": "stream",
     "name": "stdout",
     "text": [
      "youneedpython\n"
     ]
    }
   ],
   "source": [
    "print(\"\".join([\"you\", \"need\", \"python\"]))"
   ]
  },
  {
   "cell_type": "code",
   "execution_count": 60,
   "metadata": {},
   "outputs": [
    {
     "output_type": "stream",
     "name": "stdout",
     "text": [
      "Life is too short\n"
     ]
    }
   ],
   "source": [
    "f1 = open(\"test.txt\", 'w')\n",
    "f1.write(\"Life is too short\")\n",
    "f1.close()\n",
    "\n",
    "f2 = open(\"test.txt\", 'r')\n",
    "print(f2.read())\n",
    "f2.close()"
   ]
  },
  {
   "cell_type": "code",
   "execution_count": 65,
   "metadata": {},
   "outputs": [],
   "source": [
    "f1 = open('test2.txt', 'w')\n",
    "f1.close()"
   ]
  },
  {
   "cell_type": "code",
   "execution_count": 67,
   "metadata": {},
   "outputs": [],
   "source": [
    "f2 = open('test2.txt', 'a')\n",
    "f2.write(input('enter what you want to add')+'\\n')\n",
    "f2.close()"
   ]
  },
  {
   "cell_type": "code",
   "execution_count": 68,
   "metadata": {},
   "outputs": [],
   "source": [
    "f1 = open('test3.txt', 'w')\n",
    "f1.write(\"\"\"\n",
    "Life is too short\n",
    "you need java\n",
    "\"\"\")\n",
    "f1.close()"
   ]
  },
  {
   "cell_type": "code",
   "execution_count": 78,
   "metadata": {},
   "outputs": [],
   "source": [
    "f2 = open('test3.txt', 'r')\n",
    "a = f2.read().replace('java', 'python')\n",
    "f2.close()\n",
    "f3 = open('test3.txt', 'w')\n",
    "f3.write(a)\n",
    "f3.close()"
   ]
  }
 ]
}