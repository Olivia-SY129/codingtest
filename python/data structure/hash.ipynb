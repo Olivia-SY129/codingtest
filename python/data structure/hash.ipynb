{
 "metadata": {
  "language_info": {
   "codemirror_mode": {
    "name": "ipython",
    "version": 3
   },
   "file_extension": ".py",
   "mimetype": "text/x-python",
   "name": "python",
   "nbconvert_exporter": "python",
   "pygments_lexer": "ipython3",
   "version": "3.8.5"
  },
  "orig_nbformat": 2,
  "kernelspec": {
   "name": "python385jvsc74a57bd042588fd11209419b7c81abe23e31a1d2101f60811b02170c268e57ebb57d5d9a",
   "display_name": "Python 3.8.5 64-bit ('base': conda)"
  }
 },
 "nbformat": 4,
 "nbformat_minor": 2,
 "cells": [
  {
   "source": [
    "Dictionary처럼 key로 value에 접근할 수 있는 데이터 구조"
   ],
   "cell_type": "markdown",
   "metadata": {}
  },
  {
   "cell_type": "code",
   "execution_count": 10,
   "metadata": {},
   "outputs": [
    {
     "output_type": "execute_result",
     "data": {
      "text/plain": [
       "[0, 1, 2, 3, 4, 5, 6, 7, 8, 9]"
      ]
     },
     "metadata": {},
     "execution_count": 10
    }
   ],
   "source": [
    "hash_table = list([i for i in range(10)])\n",
    "hash_table"
   ]
  },
  {
   "source": [
    "Division, 항상 고정된 길이를 return"
   ],
   "cell_type": "markdown",
   "metadata": {}
  },
  {
   "cell_type": "code",
   "execution_count": 11,
   "metadata": {},
   "outputs": [],
   "source": [
    "def hash_func(key):\n",
    "    return key % 5"
   ]
  },
  {
   "source": [
    "Key 생성 방법 정의"
   ],
   "cell_type": "markdown",
   "metadata": {}
  },
  {
   "cell_type": "code",
   "execution_count": 12,
   "metadata": {},
   "outputs": [
    {
     "output_type": "stream",
     "name": "stdout",
     "text": [
      "65 68 84\n65 0\n65 65\n"
     ]
    }
   ],
   "source": [
    "data1 = 'Andy'\n",
    "data2 = 'Dave'\n",
    "data3 = 'Trump'\n",
    "data4 = 'Anthor'\n",
    "print(ord(data1[0]), ord(data2[0]), ord(data3[0]))\n",
    "print(ord(data1[0]), hash_func(ord(data1[0])))\n",
    "print(ord(data1[0]), ord(data4[0]))"
   ]
  },
  {
   "source": [
    "Hash Table에 값 저장\n",
    "sh Table에 값 저장\n",
    "    - data:value 와 같이 data와 value를 넣으면, key를 찾아서 대응하는 Hash address에 value를 저장"
   ],
   "cell_type": "markdown",
   "metadata": {}
  },
  {
   "cell_type": "code",
   "execution_count": 13,
   "metadata": {},
   "outputs": [
    {
     "output_type": "execute_result",
     "data": {
      "text/plain": [
       "'01055553333'"
      ]
     },
     "metadata": {},
     "execution_count": 13
    }
   ],
   "source": [
    "def storage_data(data, value):\n",
    "    key = ord(data[0])\n",
    "    hash_address = hash_func(key)\n",
    "    hash_table[hash_address] = value\n",
    "\n",
    "storage_data('Andy', '01055553333')\n",
    "storage_data('Dave', '01044443333')\n",
    "storage_data('Trump', '01033333333')\n",
    "\n",
    "def get_data(data):\n",
    "    key = ord(data[0])\n",
    "    hash_address = hash_func(key)\n",
    "    return hash_table[hash_address]\n",
    "\n",
    "get_data('Andy')"
   ]
  },
  {
   "source": [
    "exercise"
   ],
   "cell_type": "markdown",
   "metadata": {}
  },
  {
   "cell_type": "code",
   "execution_count": 19,
   "metadata": {},
   "outputs": [],
   "source": [
    "hash_table = list([0 for i in range(8)])\n",
    "\n",
    "def get_key(data):\n",
    "    return hash(data)\n",
    "\n",
    "def hash_function(key):\n",
    "    return key % 8\n",
    "\n",
    "def save_data(data, value):\n",
    "    hash_address = hash_func(get_key(data))\n",
    "    hash_table[hash_address] = value\n",
    "\n",
    "def read_data(data):\n",
    "    hash_address = hash_func(get_key(data))\n",
    "    return hash_table[hash_address]"
   ]
  },
  {
   "cell_type": "code",
   "execution_count": 20,
   "metadata": {},
   "outputs": [
    {
     "output_type": "execute_result",
     "data": {
      "text/plain": [
       "'01044443333'"
      ]
     },
     "metadata": {},
     "execution_count": 20
    }
   ],
   "source": [
    "save_data('Dave', '01055553333')\n",
    "save_data('Andy', '01044443333')\n",
    "read_data('Andy')"
   ]
  },
  {
   "cell_type": "code",
   "execution_count": 22,
   "metadata": {},
   "outputs": [
    {
     "output_type": "execute_result",
     "data": {
      "text/plain": [
       "[0, '01044443333', 0, '01055553333', 0, 0, 0, 0]"
      ]
     },
     "metadata": {},
     "execution_count": 22
    }
   ],
   "source": [
    "hash_table"
   ]
  },
  {
   "source": [
    "hash_func의 값이 중복되는 경우 데이터 충돌이 일어남\n",
    "1. chaining (< Open Hashing): linked list\n",
    "2. Linear Probing (< Close Hashing): hash address 다음의 address 중 빈 공간에 저장\n",
    "으로 해결 가능"
   ],
   "cell_type": "markdown",
   "metadata": {}
  },
  {
   "source": [
    "1. Open Hashing: Chaining"
   ],
   "cell_type": "markdown",
   "metadata": {}
  },
  {
   "cell_type": "code",
   "execution_count": 30,
   "metadata": {},
   "outputs": [
    {
     "output_type": "stream",
     "name": "stdout",
     "text": [
      "7\n7\n"
     ]
    },
    {
     "output_type": "execute_result",
     "data": {
      "text/plain": [
       "[0,\n",
       " 0,\n",
       " 0,\n",
       " 0,\n",
       " 0,\n",
       " 0,\n",
       " 0,\n",
       " [[-3672779313682468089, '01011112222'], [8318405508776745239, '01022223333']]]"
      ]
     },
     "metadata": {},
     "execution_count": 30
    }
   ],
   "source": [
    "hash_table = list([0 for i in range(8)])\n",
    "\n",
    "def get_key(data):\n",
    "    return hash(data)\n",
    "\n",
    "def hash_func(key):\n",
    "    return key % 8\n",
    "\n",
    "def save_data(data, value):\n",
    "    index_key = get_key(data)\n",
    "    hash_address = hash_func(index_key)\n",
    "    if hash_table[hash_address] != 0:\n",
    "        for i in range(len(hash_table[hash_address])):\n",
    "            if hash_table[hash_address][i][0] == index_key:\n",
    "                hash_table[hash_address][i][1] = value\n",
    "                return\n",
    "        hash_table[hash_address].append([index_key, value])\n",
    "    else:\n",
    "        hash_table[hash_address] = [[index_key, value]]\n",
    "\n",
    "def read_data(data):\n",
    "    index_key = get_key(data)\n",
    "    hash_address = hash_func(index_key)\n",
    "\n",
    "    if hash_table[hash_address] != 0:\n",
    "        for i in range(len(hash_table[hash_address])):\n",
    "            if hash_table[hash_address][i][0] == index_key:\n",
    "                return hash_table[hash_address][i][1]\n",
    "        return None\n",
    "    else:\n",
    "        return None\n",
    "\n",
    "print(hash('D') % 8)\n",
    "print(hash('Da') % 8)\n",
    "\n",
    "save_data('D', '01011112222')\n",
    "save_data('Da', '01022223333')\n",
    "read_data('D')\n",
    "\n",
    "hash_table"
   ]
  },
  {
   "source": [
    "2. Close Hashing: Linear Probing\n"
   ],
   "cell_type": "markdown",
   "metadata": {}
  },
  {
   "cell_type": "code",
   "execution_count": 42,
   "metadata": {},
   "outputs": [
    {
     "output_type": "stream",
     "name": "stdout",
     "text": [
      "-6888673035444094091\n8724488876965668381\n01001001011101\n"
     ]
    },
    {
     "output_type": "execute_result",
     "data": {
      "text/plain": [
       "[0,\n",
       " 0,\n",
       " 0,\n",
       " 0,\n",
       " 0,\n",
       " [-6888673035444094091, '01001001011101'],\n",
       " [8724488876965668381, '213535132132132131'],\n",
       " 0]"
      ]
     },
     "metadata": {},
     "execution_count": 42
    }
   ],
   "source": [
    "hash_table = list([0 for i in range(8)])\n",
    "\n",
    "def get_key(data):\n",
    "    return hash(data)\n",
    "\n",
    "def hash_func(key):\n",
    "    return key % 8\n",
    "\n",
    "def save_data(data, value):\n",
    "    index_key = get_key(data)\n",
    "    hash_address = hash_func(index_key)\n",
    "    if hash_table[hash_address] != 0:\n",
    "        for i in range(hash_address, len(hash_table)):\n",
    "            if hash_table[i] == 0:\n",
    "                hash_table[i] = [index_key, value]\n",
    "                return\n",
    "            elif hash_table[i][0] == index_key:\n",
    "                hash_table[i][1] = value\n",
    "                return\n",
    "    else:\n",
    "        hash_table[hash_address] = [index_key, value]\n",
    "\n",
    "def read_data(data):\n",
    "    index_key = get_key(data)\n",
    "    hash_address = hash_func(index_key)\n",
    "\n",
    "    if hash_table[hash_address] != 0:\n",
    "        for i in range(hash_address, len(hash_table)):\n",
    "            if hash_table[i] == 0:\n",
    "                return None\n",
    "            elif hash_table[i][0] == index_key:\n",
    "                return hash_table[i][1]\n",
    "\n",
    "    else: return None\n",
    "\n",
    "\n",
    "\n",
    "\n",
    "\n",
    "print(get_key('d'))\n",
    "print(get_key('da'))\n",
    "\n",
    "save_data('d', '01001001011101')\n",
    "save_data('da', '213535132132132131')\n",
    "\n",
    "print(read_data('d'))\n",
    "\n",
    "hash_table\n"
   ]
  }
 ]
}